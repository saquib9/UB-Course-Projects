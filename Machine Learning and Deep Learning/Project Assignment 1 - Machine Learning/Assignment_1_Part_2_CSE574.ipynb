{
 "cells": [
  {
   "cell_type": "code",
   "execution_count": 1,
   "id": "75fee70f",
   "metadata": {},
   "outputs": [],
   "source": [
    "##############################################################\n",
    "##         Part II: Logistic Regression\n",
    "##############################################################"
   ]
  },
  {
   "cell_type": "code",
   "execution_count": 2,
   "id": "d7dddfdc",
   "metadata": {},
   "outputs": [],
   "source": [
    "# 2.1"
   ]
  },
  {
   "cell_type": "code",
   "execution_count": 3,
   "id": "87b05019",
   "metadata": {},
   "outputs": [],
   "source": [
    "import pandas as pd\n",
    "import matplotlib.pyplot as plt\n",
    "import numpy as np\n",
    "\n",
    "df = pd.read_csv(r\"G:\\University of Buffalo\\CSE 574\\Assignments\\Assignment 1\\noisy_datasets\\penguins.csv\")"
   ]
  },
  {
   "cell_type": "code",
   "execution_count": 4,
   "id": "7afa46af",
   "metadata": {},
   "outputs": [],
   "source": [
    "# Pre processing"
   ]
  },
  {
   "cell_type": "code",
   "execution_count": 5,
   "id": "8d451cf2",
   "metadata": {},
   "outputs": [],
   "source": [
    "df.dropna(subset=['gender', 'species', 'island'], inplace=True)\n",
    "\n",
    "df['species'] = df['species'].replace('GENTOO','Gentoo')\n",
    "df['species'] = df['species'].replace('gentoo','Gentoo')\n",
    "df['species'] = df['species'].replace('chinstrap','Chinstrap')\n",
    "df['species'] = df['species'].replace('CHINSTRAP','Chinstrap')\n",
    "df['species'] = df['species'].replace('adelie','Adelie')\n",
    "\n",
    "df['island'] = df['island'].replace('biscoe','Biscoe')\n",
    "df['island'] = df['island'].replace('BISCOE','Biscoe')\n",
    "df['island'] = df['island'].replace('dream','Dream')\n",
    "df['island'] = df['island'].replace('DREAM','Dream')\n",
    "df['island'] = df['island'].replace('torgersen','Torgersen')\n",
    "\n",
    "df['gender'] = df['gender'].replace('MALE','male')"
   ]
  },
  {
   "cell_type": "code",
   "execution_count": 6,
   "id": "97fe5777",
   "metadata": {},
   "outputs": [],
   "source": [
    "mean = df.loc[df['flipper_length_mm']>100, 'flipper_length_mm'].mean()\n",
    "df[\"flipper_length_mm\"] = df[\"flipper_length_mm\"].mask(df[\"flipper_length_mm\"] < 100, mean)"
   ]
  },
  {
   "cell_type": "code",
   "execution_count": 7,
   "id": "4304fad6",
   "metadata": {},
   "outputs": [
    {
     "data": {
      "text/plain": [
       "Biscoe       155\n",
       "Dream        114\n",
       "Torgersen     42\n",
       "Name: island, dtype: int64"
      ]
     },
     "execution_count": 7,
     "metadata": {},
     "output_type": "execute_result"
    }
   ],
   "source": [
    "counts = df['island'].value_counts()\n",
    "counts"
   ]
  },
  {
   "cell_type": "code",
   "execution_count": 8,
   "id": "7271db6f",
   "metadata": {},
   "outputs": [
    {
     "data": {
      "text/html": [
       "<div>\n",
       "<style scoped>\n",
       "    .dataframe tbody tr th:only-of-type {\n",
       "        vertical-align: middle;\n",
       "    }\n",
       "\n",
       "    .dataframe tbody tr th {\n",
       "        vertical-align: top;\n",
       "    }\n",
       "\n",
       "    .dataframe thead th {\n",
       "        text-align: right;\n",
       "    }\n",
       "</style>\n",
       "<table border=\"1\" class=\"dataframe\">\n",
       "  <thead>\n",
       "    <tr style=\"text-align: right;\">\n",
       "      <th></th>\n",
       "      <th>species</th>\n",
       "      <th>island</th>\n",
       "      <th>calorie requirement</th>\n",
       "      <th>average sleep duration</th>\n",
       "      <th>bill_length_mm</th>\n",
       "      <th>bill_depth_mm</th>\n",
       "      <th>flipper_length_mm</th>\n",
       "      <th>body_mass_g</th>\n",
       "      <th>gender</th>\n",
       "      <th>year</th>\n",
       "    </tr>\n",
       "  </thead>\n",
       "  <tbody>\n",
       "    <tr>\n",
       "      <th>0</th>\n",
       "      <td>Adelie</td>\n",
       "      <td>Torgersen</td>\n",
       "      <td>6563</td>\n",
       "      <td>11</td>\n",
       "      <td>0.086795</td>\n",
       "      <td>0.049054</td>\n",
       "      <td>0.152542</td>\n",
       "      <td>0.291667</td>\n",
       "      <td>male</td>\n",
       "      <td>2007.0</td>\n",
       "    </tr>\n",
       "    <tr>\n",
       "      <th>1</th>\n",
       "      <td>Adelie</td>\n",
       "      <td>Torgersen</td>\n",
       "      <td>4890</td>\n",
       "      <td>14</td>\n",
       "      <td>0.091754</td>\n",
       "      <td>0.037666</td>\n",
       "      <td>0.237288</td>\n",
       "      <td>0.305556</td>\n",
       "      <td>female</td>\n",
       "      <td>2007.0</td>\n",
       "    </tr>\n",
       "    <tr>\n",
       "      <th>2</th>\n",
       "      <td>Adelie</td>\n",
       "      <td>Torgersen</td>\n",
       "      <td>7184</td>\n",
       "      <td>11</td>\n",
       "      <td>0.101674</td>\n",
       "      <td>0.042922</td>\n",
       "      <td>0.389831</td>\n",
       "      <td>0.152778</td>\n",
       "      <td>female</td>\n",
       "      <td>2007.0</td>\n",
       "    </tr>\n",
       "    <tr>\n",
       "      <th>4</th>\n",
       "      <td>Adelie</td>\n",
       "      <td>Torgersen</td>\n",
       "      <td>4774</td>\n",
       "      <td>8</td>\n",
       "      <td>0.057037</td>\n",
       "      <td>0.054310</td>\n",
       "      <td>0.355932</td>\n",
       "      <td>0.208333</td>\n",
       "      <td>female</td>\n",
       "      <td>2007.0</td>\n",
       "    </tr>\n",
       "    <tr>\n",
       "      <th>5</th>\n",
       "      <td>Adelie</td>\n",
       "      <td>Torgersen</td>\n",
       "      <td>4403</td>\n",
       "      <td>13</td>\n",
       "      <td>0.089275</td>\n",
       "      <td>0.065697</td>\n",
       "      <td>0.305085</td>\n",
       "      <td>0.263889</td>\n",
       "      <td>male</td>\n",
       "      <td>2007.0</td>\n",
       "    </tr>\n",
       "    <tr>\n",
       "      <th>...</th>\n",
       "      <td>...</td>\n",
       "      <td>...</td>\n",
       "      <td>...</td>\n",
       "      <td>...</td>\n",
       "      <td>...</td>\n",
       "      <td>...</td>\n",
       "      <td>...</td>\n",
       "      <td>...</td>\n",
       "      <td>...</td>\n",
       "      <td>...</td>\n",
       "    </tr>\n",
       "    <tr>\n",
       "      <th>339</th>\n",
       "      <td>Chinstrap</td>\n",
       "      <td>Dream</td>\n",
       "      <td>4826</td>\n",
       "      <td>11</td>\n",
       "      <td>0.293862</td>\n",
       "      <td>0.058690</td>\n",
       "      <td>0.593220</td>\n",
       "      <td>0.361111</td>\n",
       "      <td>male</td>\n",
       "      <td>2009.0</td>\n",
       "    </tr>\n",
       "    <tr>\n",
       "      <th>340</th>\n",
       "      <td>Chinstrap</td>\n",
       "      <td>Dream</td>\n",
       "      <td>4111</td>\n",
       "      <td>9</td>\n",
       "      <td>0.141352</td>\n",
       "      <td>0.043798</td>\n",
       "      <td>0.508475</td>\n",
       "      <td>0.194444</td>\n",
       "      <td>female</td>\n",
       "      <td>2009.0</td>\n",
       "    </tr>\n",
       "    <tr>\n",
       "      <th>341</th>\n",
       "      <td>Chinstrap</td>\n",
       "      <td>Dream</td>\n",
       "      <td>7049</td>\n",
       "      <td>10</td>\n",
       "      <td>0.216987</td>\n",
       "      <td>0.044674</td>\n",
       "      <td>0.355932</td>\n",
       "      <td>0.298611</td>\n",
       "      <td>male</td>\n",
       "      <td>2009.0</td>\n",
       "    </tr>\n",
       "    <tr>\n",
       "      <th>342</th>\n",
       "      <td>Chinstrap</td>\n",
       "      <td>Dream</td>\n",
       "      <td>4705</td>\n",
       "      <td>7</td>\n",
       "      <td>0.231866</td>\n",
       "      <td>0.051682</td>\n",
       "      <td>0.644068</td>\n",
       "      <td>0.388889</td>\n",
       "      <td>male</td>\n",
       "      <td>2009.0</td>\n",
       "    </tr>\n",
       "    <tr>\n",
       "      <th>343</th>\n",
       "      <td>Chinstrap</td>\n",
       "      <td>Dream</td>\n",
       "      <td>6098</td>\n",
       "      <td>7</td>\n",
       "      <td>0.224427</td>\n",
       "      <td>0.049054</td>\n",
       "      <td>0.440678</td>\n",
       "      <td>0.298611</td>\n",
       "      <td>female</td>\n",
       "      <td>2009.0</td>\n",
       "    </tr>\n",
       "  </tbody>\n",
       "</table>\n",
       "<p>311 rows × 10 columns</p>\n",
       "</div>"
      ],
      "text/plain": [
       "       species     island  calorie requirement  average sleep duration  \\\n",
       "0       Adelie  Torgersen                 6563                      11   \n",
       "1       Adelie  Torgersen                 4890                      14   \n",
       "2       Adelie  Torgersen                 7184                      11   \n",
       "4       Adelie  Torgersen                 4774                       8   \n",
       "5       Adelie  Torgersen                 4403                      13   \n",
       "..         ...        ...                  ...                     ...   \n",
       "339  Chinstrap      Dream                 4826                      11   \n",
       "340  Chinstrap      Dream                 4111                       9   \n",
       "341  Chinstrap      Dream                 7049                      10   \n",
       "342  Chinstrap      Dream                 4705                       7   \n",
       "343  Chinstrap      Dream                 6098                       7   \n",
       "\n",
       "     bill_length_mm  bill_depth_mm  flipper_length_mm  body_mass_g  gender  \\\n",
       "0          0.086795       0.049054           0.152542     0.291667    male   \n",
       "1          0.091754       0.037666           0.237288     0.305556  female   \n",
       "2          0.101674       0.042922           0.389831     0.152778  female   \n",
       "4          0.057037       0.054310           0.355932     0.208333  female   \n",
       "5          0.089275       0.065697           0.305085     0.263889    male   \n",
       "..              ...            ...                ...          ...     ...   \n",
       "339        0.293862       0.058690           0.593220     0.361111    male   \n",
       "340        0.141352       0.043798           0.508475     0.194444  female   \n",
       "341        0.216987       0.044674           0.355932     0.298611    male   \n",
       "342        0.231866       0.051682           0.644068     0.388889    male   \n",
       "343        0.224427       0.049054           0.440678     0.298611  female   \n",
       "\n",
       "       year  \n",
       "0    2007.0  \n",
       "1    2007.0  \n",
       "2    2007.0  \n",
       "4    2007.0  \n",
       "5    2007.0  \n",
       "..      ...  \n",
       "339  2009.0  \n",
       "340  2009.0  \n",
       "341  2009.0  \n",
       "342  2009.0  \n",
       "343  2009.0  \n",
       "\n",
       "[311 rows x 10 columns]"
      ]
     },
     "execution_count": 8,
     "metadata": {},
     "output_type": "execute_result"
    }
   ],
   "source": [
    "def normalize(column_name):\n",
    "    minimum = df[column_name].min()\n",
    "    maximum = df[column_name].max()\n",
    "\n",
    "    normalized_column = (df[column_name] - minimum) / (maximum - minimum)\n",
    "\n",
    "    return normalized_column\n",
    "    \n",
    "df['bill_length_mm'] = normalize('bill_length_mm')\n",
    "df['flipper_length_mm'] = normalize('flipper_length_mm')\n",
    "df['body_mass_g'] = normalize('body_mass_g')\n",
    "df['bill_depth_mm'] = normalize('bill_depth_mm')\n",
    "\n",
    "df\n"
   ]
  },
  {
   "cell_type": "code",
   "execution_count": 9,
   "id": "3d3dbb66",
   "metadata": {},
   "outputs": [],
   "source": [
    "# 2.2"
   ]
  },
  {
   "cell_type": "code",
   "execution_count": 10,
   "id": "ec115626",
   "metadata": {},
   "outputs": [],
   "source": [
    "#Chose Target\n",
    "y = df['gender']"
   ]
  },
  {
   "cell_type": "code",
   "execution_count": 11,
   "id": "21cdc900",
   "metadata": {},
   "outputs": [],
   "source": [
    "# One Hot is decreasing accuracy. So categorized without it"
   ]
  },
  {
   "cell_type": "code",
   "execution_count": 12,
   "id": "3510cdfe",
   "metadata": {},
   "outputs": [],
   "source": [
    "df = df.fillna(df.mean())"
   ]
  },
  {
   "cell_type": "code",
   "execution_count": 13,
   "id": "ff1fedad",
   "metadata": {},
   "outputs": [],
   "source": [
    "# df = pd.get_dummies(df, columns = ['species', 'island']) \n",
    "df['gender'] = pd.factorize(df['gender'])[0]\n",
    "df['species'] = pd.factorize(df['species'])[0]\n",
    "df['island'] = pd.factorize(df['island'])[0]"
   ]
  },
  {
   "cell_type": "code",
   "execution_count": 14,
   "id": "8379af97",
   "metadata": {},
   "outputs": [
    {
     "data": {
      "text/html": [
       "<div>\n",
       "<style scoped>\n",
       "    .dataframe tbody tr th:only-of-type {\n",
       "        vertical-align: middle;\n",
       "    }\n",
       "\n",
       "    .dataframe tbody tr th {\n",
       "        vertical-align: top;\n",
       "    }\n",
       "\n",
       "    .dataframe thead th {\n",
       "        text-align: right;\n",
       "    }\n",
       "</style>\n",
       "<table border=\"1\" class=\"dataframe\">\n",
       "  <thead>\n",
       "    <tr style=\"text-align: right;\">\n",
       "      <th></th>\n",
       "      <th>species</th>\n",
       "      <th>island</th>\n",
       "      <th>calorie requirement</th>\n",
       "      <th>average sleep duration</th>\n",
       "      <th>bill_length_mm</th>\n",
       "      <th>bill_depth_mm</th>\n",
       "      <th>flipper_length_mm</th>\n",
       "      <th>body_mass_g</th>\n",
       "      <th>gender</th>\n",
       "      <th>year</th>\n",
       "    </tr>\n",
       "  </thead>\n",
       "  <tbody>\n",
       "    <tr>\n",
       "      <th>species</th>\n",
       "      <td>1.000000</td>\n",
       "      <td>0.445399</td>\n",
       "      <td>-0.060205</td>\n",
       "      <td>-0.041003</td>\n",
       "      <td>0.676200</td>\n",
       "      <td>-0.031370</td>\n",
       "      <td>0.356773</td>\n",
       "      <td>0.203095</td>\n",
       "      <td>-0.015576</td>\n",
       "      <td>-0.028427</td>\n",
       "    </tr>\n",
       "    <tr>\n",
       "      <th>island</th>\n",
       "      <td>0.445399</td>\n",
       "      <td>1.000000</td>\n",
       "      <td>-0.066635</td>\n",
       "      <td>-0.050705</td>\n",
       "      <td>0.214632</td>\n",
       "      <td>0.041397</td>\n",
       "      <td>-0.151843</td>\n",
       "      <td>-0.204956</td>\n",
       "      <td>-0.015880</td>\n",
       "      <td>-0.032439</td>\n",
       "    </tr>\n",
       "    <tr>\n",
       "      <th>calorie requirement</th>\n",
       "      <td>-0.060205</td>\n",
       "      <td>-0.066635</td>\n",
       "      <td>1.000000</td>\n",
       "      <td>-0.042879</td>\n",
       "      <td>0.012275</td>\n",
       "      <td>-0.054146</td>\n",
       "      <td>-0.005807</td>\n",
       "      <td>0.016756</td>\n",
       "      <td>0.015871</td>\n",
       "      <td>-0.017163</td>\n",
       "    </tr>\n",
       "    <tr>\n",
       "      <th>average sleep duration</th>\n",
       "      <td>-0.041003</td>\n",
       "      <td>-0.050705</td>\n",
       "      <td>-0.042879</td>\n",
       "      <td>1.000000</td>\n",
       "      <td>0.052505</td>\n",
       "      <td>0.039301</td>\n",
       "      <td>0.067224</td>\n",
       "      <td>0.086933</td>\n",
       "      <td>-0.083965</td>\n",
       "      <td>0.016947</td>\n",
       "    </tr>\n",
       "    <tr>\n",
       "      <th>bill_length_mm</th>\n",
       "      <td>0.676200</td>\n",
       "      <td>0.214632</td>\n",
       "      <td>0.012275</td>\n",
       "      <td>0.052505</td>\n",
       "      <td>1.000000</td>\n",
       "      <td>-0.016300</td>\n",
       "      <td>0.494340</td>\n",
       "      <td>0.416001</td>\n",
       "      <td>-0.232340</td>\n",
       "      <td>0.088153</td>\n",
       "    </tr>\n",
       "    <tr>\n",
       "      <th>bill_depth_mm</th>\n",
       "      <td>-0.031370</td>\n",
       "      <td>0.041397</td>\n",
       "      <td>-0.054146</td>\n",
       "      <td>0.039301</td>\n",
       "      <td>-0.016300</td>\n",
       "      <td>1.000000</td>\n",
       "      <td>-0.110771</td>\n",
       "      <td>-0.072864</td>\n",
       "      <td>-0.163631</td>\n",
       "      <td>-0.085408</td>\n",
       "    </tr>\n",
       "    <tr>\n",
       "      <th>flipper_length_mm</th>\n",
       "      <td>0.356773</td>\n",
       "      <td>-0.151843</td>\n",
       "      <td>-0.005807</td>\n",
       "      <td>0.067224</td>\n",
       "      <td>0.494340</td>\n",
       "      <td>-0.110771</td>\n",
       "      <td>1.000000</td>\n",
       "      <td>0.867695</td>\n",
       "      <td>-0.271418</td>\n",
       "      <td>0.162821</td>\n",
       "    </tr>\n",
       "    <tr>\n",
       "      <th>body_mass_g</th>\n",
       "      <td>0.203095</td>\n",
       "      <td>-0.204956</td>\n",
       "      <td>0.016756</td>\n",
       "      <td>0.086933</td>\n",
       "      <td>0.416001</td>\n",
       "      <td>-0.072864</td>\n",
       "      <td>0.867695</td>\n",
       "      <td>1.000000</td>\n",
       "      <td>-0.436622</td>\n",
       "      <td>0.037684</td>\n",
       "    </tr>\n",
       "    <tr>\n",
       "      <th>gender</th>\n",
       "      <td>-0.015576</td>\n",
       "      <td>-0.015880</td>\n",
       "      <td>0.015871</td>\n",
       "      <td>-0.083965</td>\n",
       "      <td>-0.232340</td>\n",
       "      <td>-0.163631</td>\n",
       "      <td>-0.271418</td>\n",
       "      <td>-0.436622</td>\n",
       "      <td>1.000000</td>\n",
       "      <td>-0.003394</td>\n",
       "    </tr>\n",
       "    <tr>\n",
       "      <th>year</th>\n",
       "      <td>-0.028427</td>\n",
       "      <td>-0.032439</td>\n",
       "      <td>-0.017163</td>\n",
       "      <td>0.016947</td>\n",
       "      <td>0.088153</td>\n",
       "      <td>-0.085408</td>\n",
       "      <td>0.162821</td>\n",
       "      <td>0.037684</td>\n",
       "      <td>-0.003394</td>\n",
       "      <td>1.000000</td>\n",
       "    </tr>\n",
       "  </tbody>\n",
       "</table>\n",
       "</div>"
      ],
      "text/plain": [
       "                         species    island  calorie requirement  \\\n",
       "species                 1.000000  0.445399            -0.060205   \n",
       "island                  0.445399  1.000000            -0.066635   \n",
       "calorie requirement    -0.060205 -0.066635             1.000000   \n",
       "average sleep duration -0.041003 -0.050705            -0.042879   \n",
       "bill_length_mm          0.676200  0.214632             0.012275   \n",
       "bill_depth_mm          -0.031370  0.041397            -0.054146   \n",
       "flipper_length_mm       0.356773 -0.151843            -0.005807   \n",
       "body_mass_g             0.203095 -0.204956             0.016756   \n",
       "gender                 -0.015576 -0.015880             0.015871   \n",
       "year                   -0.028427 -0.032439            -0.017163   \n",
       "\n",
       "                        average sleep duration  bill_length_mm  bill_depth_mm  \\\n",
       "species                              -0.041003        0.676200      -0.031370   \n",
       "island                               -0.050705        0.214632       0.041397   \n",
       "calorie requirement                  -0.042879        0.012275      -0.054146   \n",
       "average sleep duration                1.000000        0.052505       0.039301   \n",
       "bill_length_mm                        0.052505        1.000000      -0.016300   \n",
       "bill_depth_mm                         0.039301       -0.016300       1.000000   \n",
       "flipper_length_mm                     0.067224        0.494340      -0.110771   \n",
       "body_mass_g                           0.086933        0.416001      -0.072864   \n",
       "gender                               -0.083965       -0.232340      -0.163631   \n",
       "year                                  0.016947        0.088153      -0.085408   \n",
       "\n",
       "                        flipper_length_mm  body_mass_g    gender      year  \n",
       "species                          0.356773     0.203095 -0.015576 -0.028427  \n",
       "island                          -0.151843    -0.204956 -0.015880 -0.032439  \n",
       "calorie requirement             -0.005807     0.016756  0.015871 -0.017163  \n",
       "average sleep duration           0.067224     0.086933 -0.083965  0.016947  \n",
       "bill_length_mm                   0.494340     0.416001 -0.232340  0.088153  \n",
       "bill_depth_mm                   -0.110771    -0.072864 -0.163631 -0.085408  \n",
       "flipper_length_mm                1.000000     0.867695 -0.271418  0.162821  \n",
       "body_mass_g                      0.867695     1.000000 -0.436622  0.037684  \n",
       "gender                          -0.271418    -0.436622  1.000000 -0.003394  \n",
       "year                             0.162821     0.037684 -0.003394  1.000000  "
      ]
     },
     "execution_count": 14,
     "metadata": {},
     "output_type": "execute_result"
    }
   ],
   "source": [
    "df.corr()"
   ]
  },
  {
   "cell_type": "code",
   "execution_count": 15,
   "id": "34f0d3da",
   "metadata": {},
   "outputs": [],
   "source": [
    "df = df.drop(['calorie requirement', 'average sleep duration', 'year'], axis=1)"
   ]
  },
  {
   "cell_type": "code",
   "execution_count": null,
   "id": "935ce649",
   "metadata": {},
   "outputs": [],
   "source": []
  },
  {
   "cell_type": "code",
   "execution_count": 16,
   "id": "46b51956",
   "metadata": {},
   "outputs": [
    {
     "data": {
      "text/plain": [
       "tuple"
      ]
     },
     "execution_count": 16,
     "metadata": {},
     "output_type": "execute_result"
    }
   ],
   "source": [
    "X = df[['bill_length_mm', 'flipper_length_mm', 'bill_depth_mm', 'body_mass_g']].values\n",
    "Y = df[['gender']].values\n",
    "X.shape\n",
    "type(Y.shape)"
   ]
  },
  {
   "cell_type": "code",
   "execution_count": 17,
   "id": "7786ad7f",
   "metadata": {},
   "outputs": [
    {
     "name": "stdout",
     "output_type": "stream",
     "text": [
      "Training (X_train, Y_train): (248, 4) (248, 1)\n",
      "Test (X_test, Y_test): (63, 4) (63, 1)\n"
     ]
    }
   ],
   "source": [
    "split_ratio = 0.8\n",
    "\n",
    "N, d = X.shape\n",
    "\n",
    "# Calculated the number of samples for training and testing\n",
    "num_training_samples = int(N * split_ratio)\n",
    "num_testing_samples = N - num_training_samples\n",
    "\n",
    "\n",
    "X_train = X[:num_training_samples, :]\n",
    "Y_train = Y[:num_training_samples, :]\n",
    "X_test = X[num_training_samples:, :]\n",
    "Y_test = Y[num_training_samples:, :]\n",
    "\n",
    "# Check the shapes of the resulting sets\n",
    "print(\"Training (X_train, Y_train):\", X_train.shape, Y_train.shape)\n",
    "print(\"Test (X_test, Y_test):\", X_test.shape, Y_test.shape)"
   ]
  },
  {
   "cell_type": "code",
   "execution_count": 18,
   "id": "8bedd1aa",
   "metadata": {},
   "outputs": [
    {
     "data": {
      "text/plain": [
       "(63, 4)"
      ]
     },
     "execution_count": 18,
     "metadata": {},
     "output_type": "execute_result"
    }
   ],
   "source": [
    "X_test.shape"
   ]
  },
  {
   "cell_type": "code",
   "execution_count": 19,
   "id": "4e5548ff",
   "metadata": {},
   "outputs": [],
   "source": [
    "import numpy as np\n",
    "\n",
    "class LogisticRegression:\n",
    "    def __init__(self, learning_rate, iteration):\n",
    "        self.learning_rate = learning_rate\n",
    "        self.iteration = iteration\n",
    "        \n",
    "        self.weights = None\n",
    "        self.bias = None\n",
    "\n",
    "    def sigmoid(self, z):\n",
    "        return 1 / (1 + np.exp(-z))\n",
    "    \n",
    "    def loss_ASS(self, y, h, i):\n",
    "        \n",
    "        epsilon = 1e-15\n",
    "        h = np.clip(h, epsilon, 1 - epsilon)\n",
    "        \n",
    "        loss_a = -np.mean(y * np.log(h) + (1 - y) * np.log(1 - h))\n",
    "#       print(f'Iteration number: {i}, Loss: {loss_a}')\n",
    "        return loss_a\n",
    "        \n",
    "    def fit(self, X, y):\n",
    "        num_samples, num_features = X.shape\n",
    "        self.weights = np.zeros(num_features)\n",
    "        weights_list = []\n",
    "        loss_list = []\n",
    "        self.bias = 0\n",
    "        \n",
    "        # Gradient Descent below\n",
    "        \n",
    "        for i in range(self.iteration):\n",
    "            linear_mod = np.dot(X, self.weights) + self.bias\n",
    "            predicted_probabilities = self.sigmoid(linear_mod)\n",
    "#           print(predicted_probabilities)\n",
    "\n",
    "            # Doing Gradient Calculation\n",
    "            dw = (1 / num_samples) * np.dot(X.T, (predicted_probabilities - y))\n",
    "            db = (1 / num_samples) * np.sum(predicted_probabilities - y)\n",
    "\n",
    "#           print(dw)\n",
    "            # Updating weights and bias\n",
    "            self.weights = self.weights - self.learning_rate * dw\n",
    "            self.bias = self.bias - self.learning_rate * db\n",
    "            \n",
    "#           print(f\"self weights: {self.weights}\")\n",
    "            \n",
    "            if(i % (self.iteration / 10) == 0):\n",
    "                # Recording weights at regular intervals\n",
    "                weights_list.append(self.weights)\n",
    "            \n",
    "            \n",
    "            u = self.loss_ASS(y, predicted_probabilities, i+1)\n",
    "            \n",
    "            if(i % (self.iteration / 100) == 0):\n",
    "                # Recording loss at regular intervals\n",
    "                loss_list.append(u)\n",
    "            \n",
    "#           print(u)\n",
    "            \n",
    "        return weights_list, loss_list\n",
    "\n",
    "    def predict(self, X):\n",
    "        linear_model = np.dot(X, self.weights) + self.bias\n",
    "        predicted_probabilities = self.sigmoid(linear_model)\n",
    "        predicted_labels = [1 if k >= 0.5 else 0 for k in predicted_probabilities]\n",
    "        return predicted_labels"
   ]
  },
  {
   "cell_type": "code",
   "execution_count": 20,
   "id": "9fc47053",
   "metadata": {},
   "outputs": [],
   "source": [
    "model = LogisticRegression(0.001, 10000)"
   ]
  },
  {
   "cell_type": "code",
   "execution_count": 21,
   "id": "270270fd",
   "metadata": {},
   "outputs": [
    {
     "data": {
      "text/plain": [
       "992"
      ]
     },
     "execution_count": 21,
     "metadata": {},
     "output_type": "execute_result"
    }
   ],
   "source": [
    "reshaped_X_train = X_train.reshape(-1)\n",
    "reshaped_X_train.shape\n",
    "reshaped_Y_train = Y_train.reshape(-1)\n",
    "reshaped_Y_train.shape\n",
    "\n",
    "len(reshaped_X_train)"
   ]
  },
  {
   "cell_type": "code",
   "execution_count": 22,
   "id": "7737f795",
   "metadata": {},
   "outputs": [],
   "source": [
    "#X_train"
   ]
  },
  {
   "cell_type": "code",
   "execution_count": 23,
   "id": "b0f1fbd7",
   "metadata": {
    "scrolled": true
   },
   "outputs": [],
   "source": [
    "weight_list, loss_list = model.fit(X_train, reshaped_Y_train)\n",
    "# print(loss_list)\n"
   ]
  },
  {
   "cell_type": "code",
   "execution_count": 24,
   "id": "10bc2be0",
   "metadata": {},
   "outputs": [],
   "source": [
    "y_pred = model.predict(X_test)"
   ]
  },
  {
   "cell_type": "code",
   "execution_count": 25,
   "id": "90aa1137",
   "metadata": {},
   "outputs": [
    {
     "name": "stdout",
     "output_type": "stream",
     "text": [
      "Acccuracy for Logistic regression: 74.6%\n"
     ]
    }
   ],
   "source": [
    "type(y_pred)\n",
    "y_test = Y_test.tolist()\n",
    "type(y_test)\n",
    "\n",
    "success = 0\n",
    "\n",
    "for i in range (len(y_test)):\n",
    "    if y_test[i][0] == y_pred[i]:\n",
    "        success += 1\n",
    "\n",
    "accuracy = success / len(y_test)\n",
    "\n",
    "print(f'Acccuracy for Logistic regression: {round(accuracy * 100, 2)}%')\n"
   ]
  },
  {
   "cell_type": "code",
   "execution_count": null,
   "id": "d8784610",
   "metadata": {},
   "outputs": [],
   "source": []
  },
  {
   "cell_type": "code",
   "execution_count": 26,
   "id": "3521e003",
   "metadata": {},
   "outputs": [],
   "source": [
    "#print(loss_list) #Len = 100"
   ]
  },
  {
   "cell_type": "code",
   "execution_count": 27,
   "id": "4e0664e8",
   "metadata": {},
   "outputs": [],
   "source": [
    "# 2.7 - Training the model with 3 different hyperparameters\n",
    "# 2.10 - Plotting the loss graph and printing out the loss values over each iteration"
   ]
  },
  {
   "cell_type": "code",
   "execution_count": 28,
   "id": "35762a55",
   "metadata": {},
   "outputs": [
    {
     "data": {
      "text/plain": [
       "Text(0.5, 1.0, 'Iteration vs Loss (LR = 0.1, Iter = 100000)')"
      ]
     },
     "execution_count": 28,
     "metadata": {},
     "output_type": "execute_result"
    },
    {
     "data": {
      "image/png": "[encoded data removed]",
      "text/plain": [
       "<Figure size 432x288 with 1 Axes>"
      ]
     },
     "metadata": {
      "needs_background": "light"
     },
     "output_type": "display_data"
    }
   ],
   "source": [
    "model_01 = LogisticRegression(0.1, 100000)\n",
    "weight_list_01, loss_list_01 = model_01.fit(X_train, reshaped_Y_train)\n",
    "\n",
    "iteration_count = []\n",
    "for i in range(len(loss_list_01)):\n",
    "    i = i*1000\n",
    "    iteration_count.append(i)\n",
    "    \n",
    "plt.scatter(iteration_count, loss_list_01)\n",
    "plt.xlabel(\"Iteration Count\")\n",
    "plt.ylabel(\"Loss Valus\")\n",
    "plt.title(\"Iteration vs Loss (LR = 0.1, Iter = 100000)\")"
   ]
  },
  {
   "cell_type": "code",
   "execution_count": 29,
   "id": "28fadab6",
   "metadata": {},
   "outputs": [
    {
     "name": "stdout",
     "output_type": "stream",
     "text": [
      "Acccuracy for Logistic regression: 65.08%\n"
     ]
    }
   ],
   "source": [
    "y_pred_01 = model_01.predict(X_test)\n",
    "\n",
    "type(y_pred_01)\n",
    "y_test = Y_test.tolist()\n",
    "type(y_test)\n",
    "\n",
    "success = 0\n",
    "\n",
    "for i in range (len(y_test)):\n",
    "    if y_test[i][0] == y_pred_01[i]:\n",
    "        success += 1\n",
    "\n",
    "accuracy = success / len(y_test)\n",
    "\n",
    "print(f'Acccuracy for Logistic regression: {round(accuracy * 100, 2)}%')\n"
   ]
  },
  {
   "cell_type": "code",
   "execution_count": 30,
   "id": "9a896192",
   "metadata": {},
   "outputs": [
    {
     "data": {
      "text/plain": [
       "Text(0.5, 1.0, 'Iteration vs Loss (LR = 0.01, Iter = 100000)')"
      ]
     },
     "execution_count": 30,
     "metadata": {},
     "output_type": "execute_result"
    },
    {
     "data": {
      "image/png": "[encoded data removed]",
      "text/plain": [
       "<Figure size 432x288 with 1 Axes>"
      ]
     },
     "metadata": {
      "needs_background": "light"
     },
     "output_type": "display_data"
    }
   ],
   "source": [
    "model_02 = LogisticRegression(0.01, 100000)\n",
    "weight_list_02, loss_list_02 = model_02.fit(X_train, reshaped_Y_train)\n",
    "\n",
    "iteration_count = []\n",
    "for i in range(len(loss_list_02)):\n",
    "    i = i*1000\n",
    "    iteration_count.append(i)\n",
    "    \n",
    "plt.scatter(iteration_count, loss_list_02)\n",
    "plt.xlabel(\"Iteration Count\")\n",
    "plt.ylabel(\"Loss Valus\")\n",
    "plt.title(\"Iteration vs Loss (LR = 0.01, Iter = 100000)\")"
   ]
  },
  {
   "cell_type": "code",
   "execution_count": 31,
   "id": "70678e3b",
   "metadata": {},
   "outputs": [
    {
     "name": "stdout",
     "output_type": "stream",
     "text": [
      "Acccuracy for Logistic regression: 57.14%\n"
     ]
    }
   ],
   "source": [
    "y_pred_02 = model_02.predict(X_test)\n",
    "\n",
    "type(y_pred_02)\n",
    "y_test = Y_test.tolist()\n",
    "type(y_test)\n",
    "\n",
    "success = 0\n",
    "\n",
    "for i in range (len(y_test)):\n",
    "    if y_test[i][0] == y_pred_02[i]:\n",
    "        success += 1\n",
    "\n",
    "accuracy = success / len(y_test)\n",
    "\n",
    "print(f'Acccuracy for Logistic regression: {round(accuracy * 100, 2)}%')"
   ]
  },
  {
   "cell_type": "code",
   "execution_count": 32,
   "id": "07ed1324",
   "metadata": {},
   "outputs": [
    {
     "data": {
      "text/plain": [
       "Text(0.5, 1.0, 'Iteration vs Loss (LR = 0.001, Iter = 10000)')"
      ]
     },
     "execution_count": 32,
     "metadata": {},
     "output_type": "execute_result"
    },
    {
     "data": {
      "image/png": "[encoded data removed]",
      "text/plain": [
       "<Figure size 432x288 with 1 Axes>"
      ]
     },
     "metadata": {
      "needs_background": "light"
     },
     "output_type": "display_data"
    }
   ],
   "source": [
    "model_03 = LogisticRegression(0.001, 10000)\n",
    "weight_list_03, loss_list_03 = model_03.fit(X_train, reshaped_Y_train)\n",
    "\n",
    "iteration_count = []\n",
    "for i in range(len(loss_list_03)):\n",
    "    i = i*100\n",
    "    iteration_count.append(i)\n",
    "    \n",
    "plt.scatter(iteration_count, loss_list_03)\n",
    "plt.xlabel(\"Iteration Count\")\n",
    "plt.ylabel(\"Loss Valus\")\n",
    "plt.title(\"Iteration vs Loss (LR = 0.001, Iter = 10000)\")"
   ]
  },
  {
   "cell_type": "code",
   "execution_count": 33,
   "id": "7a2c2275",
   "metadata": {},
   "outputs": [],
   "source": [
    "# 2.9 - Making prediction and printing the accuracy"
   ]
  },
  {
   "cell_type": "code",
   "execution_count": 34,
   "id": "f5a639cc",
   "metadata": {},
   "outputs": [
    {
     "name": "stdout",
     "output_type": "stream",
     "text": [
      "Acccuracy for Logistic regression: 74.6%\n"
     ]
    }
   ],
   "source": [
    "y_pred_03 = model_03.predict(X_test)\n",
    "\n",
    "type(y_pred_03)\n",
    "y_test = Y_test.tolist()\n",
    "type(y_test)\n",
    "\n",
    "success = 0\n",
    "\n",
    "for i in range (len(y_test)):\n",
    "    if y_test[i][0] == y_pred_03[i]:\n",
    "        success += 1\n",
    "\n",
    "accuracy = success / len(y_test)\n",
    "\n",
    "print(f'Acccuracy for Logistic regression: {round(accuracy * 100, 2)}%')"
   ]
  },
  {
   "cell_type": "code",
   "execution_count": 35,
   "id": "168c5f65",
   "metadata": {},
   "outputs": [],
   "source": [
    "# 2.8 - Saving weights into a pickle file."
   ]
  },
  {
   "cell_type": "code",
   "execution_count": 36,
   "id": "12cecd72",
   "metadata": {},
   "outputs": [],
   "source": [
    "import pickle \n",
    "\n",
    "weights_for_2 = {\n",
    "    'Weight for Logistic Reg': weight_list\n",
    "}\n",
    "\n",
    "pickle.dump(weights_for_2, open( \"nsaquib2_assignment1_part2.pickle\", \"wb\" ) )"
   ]
  },
  {
   "cell_type": "code",
   "execution_count": 37,
   "id": "e27f6379",
   "metadata": {},
   "outputs": [
    {
     "data": {
      "text/plain": [
       "{'Weight for Logistic Reg': [array([-1.22592644e-05, -3.37589295e-05, -5.05727671e-06, -5.56476905e-05]),\n",
       "  array([-0.01141594, -0.03044444, -0.0048778 , -0.0527085 ]),\n",
       "  array([-0.0214599 , -0.05552604, -0.00946937, -0.10058258]),\n",
       "  array([-0.03054187, -0.07682614, -0.01387891, -0.14504839]),\n",
       "  array([-0.0389337 , -0.09540299, -0.01817383, -0.18704323]),\n",
       "  array([-0.04682133, -0.11198074, -0.02239985, -0.22720865]),\n",
       "  array([-0.05433218, -0.12705592, -0.02658794, -0.26598464]),\n",
       "  array([-0.06155377, -0.14096997, -0.030759  , -0.30367392]),\n",
       "  array([-0.06854647, -0.15395867, -0.0349271 , -0.34048565]),\n",
       "  array([-0.07535208, -0.16618568, -0.03910163, -0.37656515])]}"
      ]
     },
     "execution_count": 37,
     "metadata": {},
     "output_type": "execute_result"
    }
   ],
   "source": [
    "out = pickle.load( open( \"nsaquib2_assignment1_part2.pickle\", \"rb\" ) )\n",
    "out"
   ]
  },
  {
   "cell_type": "code",
   "execution_count": null,
   "id": "251e3afe",
   "metadata": {},
   "outputs": [],
   "source": [
    "# Saving clean data in a csv"
   ]
  },
  {
   "cell_type": "code",
   "execution_count": 40,
   "id": "04717cb3",
   "metadata": {},
   "outputs": [],
   "source": [
    "from pathlib import Path  \n",
    "filepath = Path('G:\\\\University of Buffalo\\\\CSE 574\\\\Assignments\\\\Assignment 1\\\\Assignment1 Report\\\\penguin_preprocessed.csv')  \n",
    "filepath.parent.mkdir(parents=True, exist_ok=True)  \n",
    "df.to_csv(filepath)"
   ]
  },
  {
   "cell_type": "code",
   "execution_count": null,
   "id": "087fe5df",
   "metadata": {},
   "outputs": [],
   "source": []
  },
  {
   "cell_type": "code",
   "execution_count": 38,
   "id": "ec5e970a",
   "metadata": {},
   "outputs": [
    {
     "data": {
      "text/plain": [
       "'\\n# References\\n\\n1.https://www.google.com/search?q=correlation+coefficient+python&sca_esv=569265910&biw=1396&bih=724&tbm=vid&sxsrf=AM9HkKli_FJwN-dTv7-VWtE5PiVEF9Edug%3A1695948704733&ei=oB8WZeqkLLmj5NoP6syViAY&ved=0ahUKEwjq9Oigzc6BAxW5EVkFHWpmBWEQ4dUDCA0&uact=5&oq=correlation+coefficient+python&gs_lp=Eg1nd3Mtd2l6LXZpZGVvIh5jb3JyZWxhdGlvbiBjb2VmZmljaWVudCBweXRob24yBhAAGAcYHjIGEAAYBxgeMgYQABgHGB4yBhAAGAcYHjIGEAAYBxgeMgYQABgHGB4yBhAAGAcYHjIGEAAYBxgeMgYQABgHGB4yBRAAGIAESMgBUABYAHAAeACQAQCYAX2gAX2qAQMwLjG4AQPIAQD4AQL4AQGIBgE&sclient=gws-wiz-video#fpstate=ive&vld=cid:3254ab18,vid:4YDDTgnxkeA,st:0\\n\\n'"
      ]
     },
     "execution_count": 38,
     "metadata": {},
     "output_type": "execute_result"
    }
   ],
   "source": [
    "'''\n",
    "# References\n",
    "\n",
    "1.https://www.google.com/search?q=correlation+coefficient+python&sca_esv=569265910&biw=1396&bih=724&tbm=vid&sxsrf=AM9HkKli_FJwN-dTv7-VWtE5PiVEF9Edug%3A1695948704733&ei=oB8WZeqkLLmj5NoP6syViAY&ved=0ahUKEwjq9Oigzc6BAxW5EVkFHWpmBWEQ4dUDCA0&uact=5&oq=correlation+coefficient+python&gs_lp=Eg1nd3Mtd2l6LXZpZGVvIh5jb3JyZWxhdGlvbiBjb2VmZmljaWVudCBweXRob24yBhAAGAcYHjIGEAAYBxgeMgYQABgHGB4yBhAAGAcYHjIGEAAYBxgeMgYQABgHGB4yBhAAGAcYHjIGEAAYBxgeMgYQABgHGB4yBRAAGIAESMgBUABYAHAAeACQAQCYAX2gAX2qAQMwLjG4AQPIAQD4AQL4AQGIBgE&sclient=gws-wiz-video#fpstate=ive&vld=cid:3254ab18,vid:4YDDTgnxkeA,st:0\n",
    "\n",
    "2. https://developer.ibm.com/articles/implementing-logistic-regression-from-scratch-in-python/\n",
    "\n",
    "3. https://www.kaggle.com/code/jagannathrk/logistic-regression-from-scratch-python\n",
    "\n",
    "'''"
   ]
  },
  {
   "cell_type": "code",
   "execution_count": null,
   "id": "14aea255",
   "metadata": {},
   "outputs": [],
   "source": []
  }
 ],
 "metadata": {
  "kernelspec": {
   "display_name": "Python 3",
   "language": "python",
   "name": "python3"
  },
  "language_info": {
   "codemirror_mode": {
    "name": "ipython",
    "version": 3
   },
   "file_extension": ".py",
   "mimetype": "text/x-python",
   "name": "python",
   "nbconvert_exporter": "python",
   "pygments_lexer": "ipython3",
   "version": "3.8.8"
  }
 },
 "nbformat": 4,
 "nbformat_minor": 5
}
